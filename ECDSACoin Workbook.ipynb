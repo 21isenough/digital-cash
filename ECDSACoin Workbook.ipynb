{
 "cells": [
  {
   "cell_type": "markdown",
   "metadata": {},
   "source": [
    "[slides](https://docs.google.com/presentation/d/19K9nVjuSOCrZGM6lmFeEEarTm2xZwDSiZEIzf-Ywr5o/edit?usp=sharing)\n",
    "\n",
    "[documentation for python-ecdsa](https://github.com/warner/python-ecdsa)"
   ]
  },
  {
   "cell_type": "markdown",
   "metadata": {},
   "source": [
    "# Signing our First Message with ECDSA"
   ]
  },
  {
   "cell_type": "code",
   "execution_count": 91,
   "metadata": {},
   "outputs": [],
   "source": [
    "from ecdsa import SigningKey, SECP256k1\n",
    "\n",
    "sk = SigningKey.generate(curve=SECP256k1)\n",
    "vk = sk.get_verifying_key()\n",
    "\n",
    "message = b\"Don't touch that XRP\"\n",
    "signature = sk.sign(message)"
   ]
  },
  {
   "cell_type": "code",
   "execution_count": 92,
   "metadata": {},
   "outputs": [
    {
     "data": {
      "text/plain": [
       "True"
      ]
     },
     "execution_count": 92,
     "metadata": {},
     "output_type": "execute_result"
    }
   ],
   "source": [
    "vk.verify(signature, message)"
   ]
  },
  {
   "cell_type": "code",
   "execution_count": 93,
   "metadata": {},
   "outputs": [
    {
     "ename": "BadSignatureError",
     "evalue": "",
     "output_type": "error",
     "traceback": [
      "\u001b[0;31m---------------------------------------------------------------------------\u001b[0m",
      "\u001b[0;31mBadSignatureError\u001b[0m                         Traceback (most recent call last)",
      "\u001b[0;32m<ipython-input-93-2ee70f3adf22>\u001b[0m in \u001b[0;36m<module>\u001b[0;34m\u001b[0m\n\u001b[0;32m----> 1\u001b[0;31m \u001b[0mvk\u001b[0m\u001b[0;34m.\u001b[0m\u001b[0mverify\u001b[0m\u001b[0;34m(\u001b[0m\u001b[0msignature\u001b[0m\u001b[0;34m,\u001b[0m \u001b[0;34mb\"Nice XRP\"\u001b[0m\u001b[0;34m)\u001b[0m\u001b[0;34m\u001b[0m\u001b[0m\n\u001b[0m",
      "\u001b[0;32m~/dev/digital-cash/venv/lib/python3.7/site-packages/ecdsa/keys.py\u001b[0m in \u001b[0;36mverify\u001b[0;34m(self, signature, data, hashfunc, sigdecode)\u001b[0m\n\u001b[1;32m     99\u001b[0m         \u001b[0mhashfunc\u001b[0m \u001b[0;34m=\u001b[0m \u001b[0mhashfunc\u001b[0m \u001b[0;32mor\u001b[0m \u001b[0mself\u001b[0m\u001b[0;34m.\u001b[0m\u001b[0mdefault_hashfunc\u001b[0m\u001b[0;34m\u001b[0m\u001b[0m\n\u001b[1;32m    100\u001b[0m         \u001b[0mdigest\u001b[0m \u001b[0;34m=\u001b[0m \u001b[0mhashfunc\u001b[0m\u001b[0;34m(\u001b[0m\u001b[0mdata\u001b[0m\u001b[0;34m)\u001b[0m\u001b[0;34m.\u001b[0m\u001b[0mdigest\u001b[0m\u001b[0;34m(\u001b[0m\u001b[0;34m)\u001b[0m\u001b[0;34m\u001b[0m\u001b[0m\n\u001b[0;32m--> 101\u001b[0;31m         \u001b[0;32mreturn\u001b[0m \u001b[0mself\u001b[0m\u001b[0;34m.\u001b[0m\u001b[0mverify_digest\u001b[0m\u001b[0;34m(\u001b[0m\u001b[0msignature\u001b[0m\u001b[0;34m,\u001b[0m \u001b[0mdigest\u001b[0m\u001b[0;34m,\u001b[0m \u001b[0msigdecode\u001b[0m\u001b[0;34m)\u001b[0m\u001b[0;34m\u001b[0m\u001b[0m\n\u001b[0m\u001b[1;32m    102\u001b[0m \u001b[0;34m\u001b[0m\u001b[0m\n\u001b[1;32m    103\u001b[0m     \u001b[0;32mdef\u001b[0m \u001b[0mverify_digest\u001b[0m\u001b[0;34m(\u001b[0m\u001b[0mself\u001b[0m\u001b[0;34m,\u001b[0m \u001b[0msignature\u001b[0m\u001b[0;34m,\u001b[0m \u001b[0mdigest\u001b[0m\u001b[0;34m,\u001b[0m \u001b[0msigdecode\u001b[0m\u001b[0;34m=\u001b[0m\u001b[0msigdecode_string\u001b[0m\u001b[0;34m)\u001b[0m\u001b[0;34m:\u001b[0m\u001b[0;34m\u001b[0m\u001b[0m\n",
      "\u001b[0;32m~/dev/digital-cash/venv/lib/python3.7/site-packages/ecdsa/keys.py\u001b[0m in \u001b[0;36mverify_digest\u001b[0;34m(self, signature, digest, sigdecode)\u001b[0m\n\u001b[1;32m    111\u001b[0m         \u001b[0;32mif\u001b[0m \u001b[0mself\u001b[0m\u001b[0;34m.\u001b[0m\u001b[0mpubkey\u001b[0m\u001b[0;34m.\u001b[0m\u001b[0mverifies\u001b[0m\u001b[0;34m(\u001b[0m\u001b[0mnumber\u001b[0m\u001b[0;34m,\u001b[0m \u001b[0msig\u001b[0m\u001b[0;34m)\u001b[0m\u001b[0;34m:\u001b[0m\u001b[0;34m\u001b[0m\u001b[0m\n\u001b[1;32m    112\u001b[0m             \u001b[0;32mreturn\u001b[0m \u001b[0;32mTrue\u001b[0m\u001b[0;34m\u001b[0m\u001b[0m\n\u001b[0;32m--> 113\u001b[0;31m         \u001b[0;32mraise\u001b[0m \u001b[0mBadSignatureError\u001b[0m\u001b[0;34m\u001b[0m\u001b[0m\n\u001b[0m\u001b[1;32m    114\u001b[0m \u001b[0;34m\u001b[0m\u001b[0m\n\u001b[1;32m    115\u001b[0m \u001b[0;32mclass\u001b[0m \u001b[0mSigningKey\u001b[0m\u001b[0;34m:\u001b[0m\u001b[0;34m\u001b[0m\u001b[0m\n",
      "\u001b[0;31mBadSignatureError\u001b[0m: "
     ]
    }
   ],
   "source": [
    "vk.verify(signature, b\"Nice XRP\")"
   ]
  },
  {
   "cell_type": "markdown",
   "metadata": {},
   "source": [
    "# Using Unique Serial Number as Our initial Message\n",
    "\n",
    "* We use uuid's because they're easy to produce and very unlikely to collide"
   ]
  },
  {
   "cell_type": "code",
   "execution_count": null,
   "metadata": {},
   "outputs": [],
   "source": []
  },
  {
   "cell_type": "markdown",
   "metadata": {},
   "source": [
    "# Using signatures of signatures as subsequent messages"
   ]
  },
  {
   "cell_type": "code",
   "execution_count": null,
   "metadata": {},
   "outputs": [],
   "source": []
  },
  {
   "cell_type": "markdown",
   "metadata": {},
   "source": [
    "# Defining ECDSACoin\n",
    "\n",
    "* A coin is just a list of transfers, just like with PNGCoin. But where transfers were photographs of signatures in PNGCoin, they are ECDSA digital signatures in ECDSACoin\n",
    "* The `public_key` in the last transfer is who owns the coin\n",
    "* To spent the coin you just need to serialize the coin, and sign it using the private key corresponding the the `public_key` listed in the last transfer."
   ]
  },
  {
   "cell_type": "code",
   "execution_count": 25,
   "metadata": {},
   "outputs": [],
   "source": [
    "import uuid\n",
    "\n",
    "def generate_id():\n",
    "    return uuid.uuid4()\n",
    "\n",
    "class Transfer:\n",
    "    \n",
    "    def __init__(self, message, signature, public_key):\n",
    "        self.message = message\n",
    "        self.signature = signature\n",
    "        self.public_key = public_key\n",
    "\n",
    "class ECDSACoin:\n",
    "    \n",
    "    def __init__(self, id, transfers):\n",
    "        self.id = id \n",
    "        self.transfers = transfers  # Instances of Transfer ^^"
   ]
  },
  {
   "cell_type": "code",
   "execution_count": 26,
   "metadata": {},
   "outputs": [],
   "source": [
    "from ecdsa import SigningKey, SECP256k1\n",
    "\n",
    "# These are comically small numbers ...\n",
    "# Doing this to point out that they're just numbers\n",
    "bank_secret = 1\n",
    "bob_secret = 2\n",
    "alice_secret = 3\n",
    "\n",
    "bank_sk = SigningKey.from_secret_exponent(bank_secret, curve=SECP256k1)\n",
    "bob_sk = SigningKey.from_secret_exponent(bob_secret, curve=SECP256k1)\n",
    "alice_sk = SigningKey.from_secret_exponent(alice_secret, curve=SECP256k1)\n",
    "\n",
    "bank_vk = bank_sk.get_verifying_key()\n",
    "bob_vk = bob_sk.get_verifying_key()\n",
    "alice_vk = alice_sk.get_verifying_key()"
   ]
  },
  {
   "cell_type": "code",
   "execution_count": 27,
   "metadata": {},
   "outputs": [],
   "source": [
    "import pickle\n",
    "\n",
    "# coin id -> public key issued to\n",
    "circulation = {}\n",
    "\n",
    "# Only the bank can do this\n",
    "def issue(public_key):\n",
    "    # Create a message specifying which coin we're issuing (id) \n",
    "    # and to whom we're issuing it\n",
    "    id = generate_id()\n",
    "    circulation[id] = public_key\n",
    "    data = {\n",
    "        \"id\": id,\n",
    "        \"public_key\": public_key,\n",
    "    }\n",
    "    message = pickle.dumps(data)\n",
    "    \n",
    "    # create the first transfer, which includes a special \"minting\" signature\n",
    "    signature = bank_sk.sign(message)\n",
    "    transfer = Transfer(\n",
    "        message=message,\n",
    "        signature=signature,\n",
    "        public_key=public_key,\n",
    "    )\n",
    "    \n",
    "    # Create and return the coin with just the issuing transfer\n",
    "    coin = ECDSACoin(id=id, transfers=[transfer])\n",
    "    return coin\n",
    "    \n"
   ]
  },
  {
   "cell_type": "code",
   "execution_count": null,
   "metadata": {},
   "outputs": [],
   "source": []
  },
  {
   "cell_type": "code",
   "execution_count": null,
   "metadata": {},
   "outputs": [],
   "source": []
  },
  {
   "cell_type": "markdown",
   "metadata": {},
   "source": [
    "# Validating the First / Minting Transfer"
   ]
  },
  {
   "cell_type": "code",
   "execution_count": 28,
   "metadata": {},
   "outputs": [],
   "source": [
    "# Introduce the bank, which maintains a "
   ]
  },
  {
   "cell_type": "code",
   "execution_count": 38,
   "metadata": {},
   "outputs": [],
   "source": [
    "def validate_issuing_transfer(coin):\n",
    "    transfer = coin.transfers[0]\n",
    "    data = {\n",
    "        \"id\": coin.id,\n",
    "        \"public_key\": transfer.public_key,\n",
    "    }\n",
    "    message = pickle.dumps(data)\n",
    "    assert bank_vk.verify(transfer.signature, message)"
   ]
  },
  {
   "cell_type": "code",
   "execution_count": 39,
   "metadata": {},
   "outputs": [],
   "source": [
    "# give alice a ECDSACoin\n",
    "alice_coin = issue(alice_vk)\n",
    "\n",
    "validate_issuing_transfer(alice_coin)"
   ]
  },
  {
   "cell_type": "code",
   "execution_count": null,
   "metadata": {},
   "outputs": [],
   "source": [
    "# Example where the signature is done using wrong private key\n",
    "\n",
    "bad_coin_id = generate_id()\n",
    "bad_message = pickle.dumps({\n",
    "    \"id\": id,\n",
    "    \"public_key\": alice_vk,\n",
    "})\n",
    "bad_transfer = Transfer(\n",
    "    message=bad_message,\n",
    "    signature=bob_sk.sign(bad_message),  # WRONG SIGNING KEY\n",
    "    public_key=alice_vk,\n",
    ")\n",
    "bad_coin = ECDSACoin(\n",
    "    id=bad_coin_id,\n",
    "    transfers=[bad_transfer],\n",
    ")"
   ]
  },
  {
   "cell_type": "code",
   "execution_count": 75,
   "metadata": {},
   "outputs": [
    {
     "name": "stdout",
     "output_type": "stream",
     "text": [
      "It caught the bad signature\n"
     ]
    }
   ],
   "source": [
    "from ecdsa import BadSignatureError\n",
    "\n",
    "try:\n",
    "    # Should raise a BadSignatureError\n",
    "    validate_issuing_transfer(bad_coin)\n",
    "except BadSignatureError:\n",
    "    print(\"It caught the bad signature\")"
   ]
  },
  {
   "cell_type": "markdown",
   "metadata": {},
   "source": [
    "# Validating subsequent Transfers"
   ]
  },
  {
   "cell_type": "code",
   "execution_count": 78,
   "metadata": {},
   "outputs": [],
   "source": [
    "def validate_transfers(coin):\n",
    "    validate_issuing_transfer(coin)\n",
    "    previous_transfer = coin.transfers[0]\n",
    "    for transfer in coin.transfers[1:]:\n",
    "        # Check previous owner signed this transfer using their private key\n",
    "        assert previous_transfer.public_key.verify(\n",
    "            transfer.signature,\n",
    "            previous_transfer.signature,\n",
    "        )\n",
    "        previous_transfer = transfer"
   ]
  },
  {
   "cell_type": "code",
   "execution_count": 70,
   "metadata": {},
   "outputs": [
    {
     "name": "stdout",
     "output_type": "stream",
     "text": [
      "b'\\x8c\\x15^\\x1b\\x98\\x96\\xf3g\\x8a\\xf5R\\x1aK\\x83\\x0e\\xf4s(}\\x8c&9\\x98!&R\\x1b\\x9b8\\x1b\\xe0[ez\\xd5L\\x14\\xa6\\x82p\\xdb\\x15~.\\xfb\\xdf{N)\\xcb\\xc8\\xb7\\x9aS/\\xa4\\xac\\x87\\xcb\\x8e\\xb6d\\\\\\xa9'\n"
     ]
    }
   ],
   "source": [
    "alice_coin = issue(alice_vk)\n",
    "\n",
    "alice_to_bob = Transfer(\n",
    "    message=None,\n",
    "    signature=alice_sk.sign(alice_coin.transfers[0].signature),\n",
    "    public_key=bob_vk,\n",
    ")\n",
    "\n",
    "alice_coin.transfers.append(alice_to_bob)"
   ]
  },
  {
   "cell_type": "code",
   "execution_count": 71,
   "metadata": {},
   "outputs": [
    {
     "name": "stdout",
     "output_type": "stream",
     "text": [
      "b'\\x8c\\x15^\\x1b\\x98\\x96\\xf3g\\x8a\\xf5R\\x1aK\\x83\\x0e\\xf4s(}\\x8c&9\\x98!&R\\x1b\\x9b8\\x1b\\xe0[ez\\xd5L\\x14\\xa6\\x82p\\xdb\\x15~.\\xfb\\xdf{N)\\xcb\\xc8\\xb7\\x9aS/\\xa4\\xac\\x87\\xcb\\x8e\\xb6d\\\\\\xa9'\n"
     ]
    }
   ],
   "source": [
    "# No errors means the signature was good\n",
    "validate_transfers(alice_coin)"
   ]
  },
  {
   "cell_type": "code",
   "execution_count": 72,
   "metadata": {},
   "outputs": [],
   "source": [
    "alice_coin = issue(alice_vk)\n",
    "\n",
    "alice_to_bob_forged = Transfer(\n",
    "    message=None,\n",
    "    signature=bob_sk.sign(alice_coin.transfers[0].signature),\n",
    "    public_key=bob_vk,\n",
    ")\n",
    "\n",
    "alice_coin.transfers.append(alice_to_bob_forged)"
   ]
  },
  {
   "cell_type": "code",
   "execution_count": 79,
   "metadata": {},
   "outputs": [
    {
     "name": "stdout",
     "output_type": "stream",
     "text": [
      "It caught the bad signature\n"
     ]
    }
   ],
   "source": [
    "try:\n",
    "    # Should raise a BadSignatureError\n",
    "    validate_transfers(alice_coin)\n",
    "except BadSignatureError:\n",
    "    print(\"It caught the bad signature\")"
   ]
  },
  {
   "cell_type": "markdown",
   "metadata": {},
   "source": [
    "# Serialization"
   ]
  },
  {
   "cell_type": "code",
   "execution_count": 80,
   "metadata": {},
   "outputs": [],
   "source": [
    "# The code from last time still works (utils.py)\n",
    "\n",
    "from utils import to_disk, from_disk"
   ]
  },
  {
   "cell_type": "code",
   "execution_count": 81,
   "metadata": {},
   "outputs": [
    {
     "name": "stdout",
     "output_type": "stream",
     "text": [
      "Alice's coinfile exists on disk? False\n"
     ]
    }
   ],
   "source": [
    "import os\n",
    "\n",
    "filename = \"alices.ecdsacoin\"\n",
    " \n",
    "print(\"Alice's coinfile exists on disk?\", os.path.isfile(filename))"
   ]
  },
  {
   "cell_type": "code",
   "execution_count": 83,
   "metadata": {},
   "outputs": [],
   "source": [
    "alice_coin = issue(alice_vk)\n",
    "\n",
    "to_disk(alice_coin, filename)"
   ]
  },
  {
   "cell_type": "code",
   "execution_count": 84,
   "metadata": {},
   "outputs": [
    {
     "name": "stdout",
     "output_type": "stream",
     "text": [
      "Alice's coinfile exists on disk? True\n"
     ]
    }
   ],
   "source": [
    "print(\"Alice's coinfile exists on disk?\", os.path.isfile(filename))"
   ]
  },
  {
   "cell_type": "markdown",
   "metadata": {},
   "source": [
    "# The Finished Produce\n",
    "\n",
    "(link to library)"
   ]
  },
  {
   "cell_type": "code",
   "execution_count": null,
   "metadata": {},
   "outputs": [],
   "source": []
  }
 ],
 "metadata": {
  "kernelspec": {
   "display_name": "Python 3",
   "language": "python",
   "name": "python3"
  },
  "language_info": {
   "codemirror_mode": {
    "name": "ipython",
    "version": 3
   },
   "file_extension": ".py",
   "mimetype": "text/x-python",
   "name": "python",
   "nbconvert_exporter": "python",
   "pygments_lexer": "ipython3",
   "version": "3.7.0"
  }
 },
 "nbformat": 4,
 "nbformat_minor": 2
}
